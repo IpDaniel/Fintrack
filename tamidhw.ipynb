{
 "cells": [
  {
   "cell_type": "code",
   "execution_count": 1,
   "id": "4b54b972-f8c0-45d9-992a-785fb00ba889",
   "metadata": {},
   "outputs": [
    {
     "ename": "ModuleNotFoundError",
     "evalue": "No module named 'yfinance'",
     "output_type": "error",
     "traceback": [
      "\u001b[0;31m---------------------------------------------------------------------------\u001b[0m",
      "\u001b[0;31mModuleNotFoundError\u001b[0m                       Traceback (most recent call last)",
      "Cell \u001b[0;32mIn[1], line 4\u001b[0m\n\u001b[1;32m      2\u001b[0m \u001b[38;5;28;01mimport\u001b[39;00m \u001b[38;5;21;01mnumpy\u001b[39;00m \u001b[38;5;28;01mas\u001b[39;00m \u001b[38;5;21;01mnp\u001b[39;00m\n\u001b[1;32m      3\u001b[0m \u001b[38;5;28;01mfrom\u001b[39;00m \u001b[38;5;21;01mscipy\u001b[39;00m \u001b[38;5;28;01mimport\u001b[39;00m stats\n\u001b[0;32m----> 4\u001b[0m \u001b[38;5;28;01mimport\u001b[39;00m \u001b[38;5;21;01myfinance\u001b[39;00m \u001b[38;5;28;01mas\u001b[39;00m \u001b[38;5;21;01myf\u001b[39;00m\n\u001b[1;32m      5\u001b[0m \u001b[38;5;28;01mdef\u001b[39;00m \u001b[38;5;21mdaily_returns\u001b[39m(array):\n\u001b[1;32m      6\u001b[0m \u001b[38;5;250m    \u001b[39m\u001b[38;5;124;03m\"\"\"\u001b[39;00m\n\u001b[1;32m      7\u001b[0m \u001b[38;5;124;03m    Parameters: array (of daily price data)\u001b[39;00m\n\u001b[1;32m      8\u001b[0m \u001b[38;5;124;03m    Returns the log returns as an array.\u001b[39;00m\n\u001b[1;32m      9\u001b[0m \u001b[38;5;124;03m    \"\"\"\u001b[39;00m\n",
      "\u001b[0;31mModuleNotFoundError\u001b[0m: No module named 'yfinance'"
     ]
    }
   ],
   "source": [
    "# learning how to monte carlo\n",
    "import numpy as np\n",
    "from scipy import stats\n",
    "import yfinance as yf\n",
    "def daily_returns(array):\n",
    "    \"\"\"\n",
    "    Parameters: array (of daily price data)\n",
    "    Returns the log returns as an array.\n",
    "    \"\"\"\n",
    "    x = []\n",
    "    for i in range(1, len(array)):\n",
    "        x.append(np.log(array[i] / array[i - 1]))\n",
    "    return np.array(x)\n",
    "\n",
    "def calculate_drift(array):\n",
    "    \"\"\"\n",
    "    Parameters: daily stock price\n",
    "    Calculates sample variance, standard deviation, and drift.\n",
    "    \"\"\"\n",
    "    mean = np.mean(array)\n",
    "    total = 0\n",
    "    for value in array:\n",
    "        total += (value - mean) ** 2\n",
    "    samp_var = total / (len(array) - 1)\n",
    "     volatility = np.sqrt(samp_var)\n",
    "    return drift, volatility\n",
    "\n",
    "def init_gbm(start_price, drift, volatility, days, delta, simulations):\n",
    "\n",
    "    price_paths = np.zeros((simulations, days))\n",
    "    price_paths[:, 0] = start_price\n",
    "\n",
    "    random_shocks = np.random.normal(0, 1, (simulations, days - 1))\n",
    "    for i in range(1, days):\n",
    "        daily = drift * delta + volatility * np.sqrt(delta) * random_shocks[:, i - 1]\n",
    "        price_paths[:, i] = price_paths[:, i - 1] * np.exp(daily)\n",
    "\n",
    "    return price_paths\n",
    "\n",
    "final_prices = price_paths[:, -1]\n",
    "def confidence_interval(final_prices, confidence=0.95):\n",
    "    \"\"\"\n",
    "    Calculates the confidence interval for final prices.\n",
    "    \"\"\"\n",
    "    std = final_prices.std()\n",
    "    n = len(final_prices)\n",
    "    critical_value = stats.norm.ppf((1 + confidence) / 2)\n",
    "    stand = std / np.sqrt(n)\n",
    "    margin = stand * critical_value\n",
    "    mean = final_prices.mean()\n",
    "    return mean ,(mean - margin), (mean + margin)\n",
    "\n",
    "def pull_data(ticker, start_date, end_date):\n",
    "    stock_data = yf.download(ticker, start=start_date, end=end_date)\n",
    "    return stock_date\n",
    "def boolean(statement):\n",
    "    if statement == True:\n",
    "        print(\"yay\")\n",
    "\n",
    "    \n",
    "\n",
    "\n",
    "    \n",
    "    \n",
    "    \n",
    "        \n",
    "# marchov chains \n",
    "# series of starting states depending on probability how likely it is to transition to a differnt tra\n",
    "# techinical indicatiors"
   ]
  },
  {
   "cell_type": "code",
   "execution_count": null,
   "id": "483d3ac6-3f16-4746-a056-f117d2bf3696",
   "metadata": {},
   "outputs": [],
   "source": []
  }
 ],
 "metadata": {
  "kernelspec": {
   "display_name": "Python 3 (ipykernel)",
   "language": "python",
   "name": "python3"
  },
  "language_info": {
   "codemirror_mode": {
    "name": "ipython",
    "version": 3
   },
   "file_extension": ".py",
   "mimetype": "text/x-python",
   "name": "python",
   "nbconvert_exporter": "python",
   "pygments_lexer": "ipython3",
   "version": "3.12.7"
  }
 },
 "nbformat": 4,
 "nbformat_minor": 5
}
